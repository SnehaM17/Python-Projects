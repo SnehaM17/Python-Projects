{
 "cells": [
  {
   "cell_type": "code",
   "execution_count": 1,
   "id": "0570e6a7-d010-4de0-aa6f-b25f3f818821",
   "metadata": {},
   "outputs": [
    {
     "name": "stdout",
     "output_type": "stream",
     "text": [
      "Welcome to Hand Cricket!\n"
     ]
    },
    {
     "name": "stdin",
     "output_type": "stream",
     "text": [
      "Choose 1 to bat first or 2 to bowl first:  1\n"
     ]
    },
    {
     "name": "stdout",
     "output_type": "stream",
     "text": [
      "You are batting. Score as much as you can!\n"
     ]
    },
    {
     "name": "stdin",
     "output_type": "stream",
     "text": [
      "Enter your run (1-6):  3\n"
     ]
    },
    {
     "name": "stdout",
     "output_type": "stream",
     "text": [
      "Your score: 3\n"
     ]
    },
    {
     "name": "stdin",
     "output_type": "stream",
     "text": [
      "Enter your run (1-6):  2\n"
     ]
    },
    {
     "name": "stdout",
     "output_type": "stream",
     "text": [
      "You are out!\n",
      "Your score: 3\n",
      "You are bowling. Try to get the computer out!\n"
     ]
    },
    {
     "name": "stdin",
     "output_type": "stream",
     "text": [
      "Enter your ball (1-6):  4\n"
     ]
    },
    {
     "name": "stdout",
     "output_type": "stream",
     "text": [
      "You got the computer out!\n",
      "You win!\n"
     ]
    }
   ],
   "source": [
    "import random\n",
    "\n",
    "def user_batting():\n",
    "    user_score = 0\n",
    "    print(\"You are batting. Score as much as you can!\")\n",
    "    while True:\n",
    "        user_choice = int(input(\"Enter your run (1-6): \"))\n",
    "        computer_choice = random.randint(1, 6)\n",
    "        if user_choice == computer_choice:\n",
    "            print(\"You are out!\")\n",
    "            break\n",
    "        user_score += user_choice\n",
    "        print(f\"Your score: {user_score}\")\n",
    "    return user_score\n",
    "\n",
    "def user_bowling():\n",
    "    computer_score = 0\n",
    "    print(\"You are bowling. Try to get the computer out!\")\n",
    "    while True:\n",
    "        user_choice = int(input(\"Enter your ball (1-6): \"))\n",
    "        computer_choice = random.randint(1, 6)\n",
    "        if user_choice == computer_choice:\n",
    "            print(\"You got the computer out!\")\n",
    "            break\n",
    "        computer_score += computer_choice\n",
    "        print(f\"Computer's score: {computer_score}\")\n",
    "    return computer_score\n",
    "\n",
    "def main():\n",
    "    print(\"Welcome to Hand Cricket!\")\n",
    "    choice = int(input(\"Choose 1 to bat first or 2 to bowl first: \"))\n",
    "    if choice == 1:\n",
    "        user_score = user_batting()\n",
    "        print(f\"Your score: {user_score}\")\n",
    "        computer_score = user_bowling()\n",
    "        if computer_score > user_score:\n",
    "            print(\"Computer wins!\")\n",
    "        elif computer_score < user_score:\n",
    "            print(\"You win!\")\n",
    "        else:\n",
    "            print(\"It's a tie!\")\n",
    "    elif choice == 2:\n",
    "        computer_score = user_bowling()\n",
    "        print(f\"Computer's score: {computer_score}\")\n",
    "        user_score = user_batting()\n",
    "        if user_score > computer_score:\n",
    "            print(\"You win!\")\n",
    "        elif user_score < computer_score:\n",
    "            print(\"Computer wins!\")\n",
    "        else:\n",
    "            print(\"It's a tie!\")\n",
    "\n",
    "if __name__ == \"__main__\":\n",
    "    main()\n"
   ]
  }
 ],
 "metadata": {
  "kernelspec": {
   "display_name": "Python 3 (ipykernel)",
   "language": "python",
   "name": "python3"
  },
  "language_info": {
   "codemirror_mode": {
    "name": "ipython",
    "version": 3
   },
   "file_extension": ".py",
   "mimetype": "text/x-python",
   "name": "python",
   "nbconvert_exporter": "python",
   "pygments_lexer": "ipython3",
   "version": "3.12.7"
  }
 },
 "nbformat": 4,
 "nbformat_minor": 5
}
