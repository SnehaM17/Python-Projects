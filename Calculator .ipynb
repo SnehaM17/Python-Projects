{
 "cells": [
  {
   "cell_type": "code",
   "execution_count": 1,
   "id": "5e2562c9-d47f-406f-92a1-e14611b7762b",
   "metadata": {},
   "outputs": [],
   "source": [
    "import tkinter as tk\n",
    "from tkinter import messagebox\n",
    "\n",
    "def click(event):\n",
    "    text = event.widget.cget(\"text\")\n",
    "    if text == \"=\":\n",
    "        try:\n",
    "            result = eval(str(screen.get()))\n",
    "            screen.set(result)\n",
    "        except Exception as e:\n",
    "            screen.set(\"Error\")\n",
    "    elif text == \"C\":\n",
    "        screen.set(\"\")\n",
    "    else:\n",
    "        screen.set(screen.get() + text)\n",
    "\n",
    "# Main application window\n",
    "root = tk.Tk()\n",
    "root.title(\"Calculator\")\n",
    "root.geometry(\"400x600\")\n",
    "\n",
    "# StringVar to hold screen content\n",
    "screen = tk.StringVar()\n",
    "\n",
    "# Screen entry\n",
    "entry = tk.Entry(root, textvar=screen, font=(\"Arial\", 24), bd=8, relief=tk.SUNKEN, justify=tk.RIGHT)\n",
    "entry.pack(fill=tk.BOTH, ipadx=8, padx=10, pady=10)\n",
    "\n",
    "# Button configuration\n",
    "buttons = [\n",
    "    [\"7\", \"8\", \"9\", \"/\"],\n",
    "    [\"4\", \"5\", \"6\", \"*\"],\n",
    "    [\"1\", \"2\", \"3\", \"-\"],\n",
    "    [\"C\", \"0\", \"=\", \"+\"]\n",
    "]\n",
    "\n",
    "for row in buttons:\n",
    "    frame = tk.Frame(root)\n",
    "    frame.pack(expand=True, fill=tk.BOTH)\n",
    "    for button in row:\n",
    "        b = tk.Button(frame, text=button, font=(\"Arial\", 18), relief=tk.RAISED, bd=3)\n",
    "        b.pack(side=tk.LEFT, expand=True, fill=tk.BOTH)\n",
    "        b.bind(\"<Button-1>\", click)\n",
    "\n",
    "# Run the application\n",
    "root.mainloop()\n"
   ]
  }
 ],
 "metadata": {
  "kernelspec": {
   "display_name": "Python 3 (ipykernel)",
   "language": "python",
   "name": "python3"
  },
  "language_info": {
   "codemirror_mode": {
    "name": "ipython",
    "version": 3
   },
   "file_extension": ".py",
   "mimetype": "text/x-python",
   "name": "python",
   "nbconvert_exporter": "python",
   "pygments_lexer": "ipython3",
   "version": "3.12.7"
  }
 },
 "nbformat": 4,
 "nbformat_minor": 5
}
