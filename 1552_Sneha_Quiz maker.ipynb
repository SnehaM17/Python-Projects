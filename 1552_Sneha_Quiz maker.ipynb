{
 "cells": [
  {
   "cell_type": "code",
   "execution_count": 1,
   "id": "a66254df-d13b-4588-9c94-7b5b28792668",
   "metadata": {},
   "outputs": [],
   "source": [
    "import tkinter as tk\n",
    "from tkinter import messagebox\n",
    "\n",
    "questions = [\n",
    "    {\"question\": \"What is the capital of France?\", \"options\": [\"Berlin\", \"Madrid\", \"Paris\", \"Rome\"], \"answer\": \"Paris\"},\n",
    "    {\"question\": \"What is 2 + 2?\", \"options\": [\"3\", \"4\", \"5\", \"6\"], \"answer\": \"4\"},\n",
    "]\n",
    "\n",
    "current_question = 0\n",
    "score = 0\n",
    "\n",
    "def load_question():\n",
    "    global current_question\n",
    "    if current_question < len(questions):\n",
    "        q = questions[current_question]\n",
    "        question_label.config(text=f\"Q{current_question + 1}: {q['question']}\")\n",
    "        for i, option in enumerate(q[\"options\"]):\n",
    "            option_buttons[i].config(text=option, value=option)\n",
    "    else:\n",
    "        messagebox.showinfo(\"Quiz Completed\", f\"Your score: {score}/{len(questions)}\")\n",
    "        root.destroy()\n",
    "\n",
    "def check_answer():\n",
    "    global current_question, score\n",
    "    selected = selected_option.get()\n",
    "    if selected == questions[current_question][\"answer\"]:\n",
    "        score += 1\n",
    "    current_question += 1\n",
    "    load_question()\n",
    "\n",
    "root = tk.Tk()\n",
    "root.title(\"Simple Quiz\")\n",
    "root.geometry(\"400x300\")\n",
    "\n",
    "question_label = tk.Label(root, text=\"\", font=(\"Arial\", 14), wraplength=350)\n",
    "question_label.pack(pady=20)\n",
    "\n",
    "selected_option = tk.StringVar(value=\"\")\n",
    "option_buttons = [tk.Radiobutton(root, text=\"\", variable=selected_option, value=\"\", font=(\"Arial\", 12)) for _ in range(4)]\n",
    "for btn in option_buttons:\n",
    "    btn.pack(anchor=\"w\", padx=20)\n",
    "\n",
    "submit_button = tk.Button(root, text=\"Submit\", command=check_answer, font=(\"Arial\", 12))\n",
    "submit_button.pack(pady=20)\n",
    "\n",
    "load_question()\n",
    "\n",
    "root.mainloop()\n"
   ]
  }
 ],
 "metadata": {
  "kernelspec": {
   "display_name": "Python 3 (ipykernel)",
   "language": "python",
   "name": "python3"
  },
  "language_info": {
   "codemirror_mode": {
    "name": "ipython",
    "version": 3
   },
   "file_extension": ".py",
   "mimetype": "text/x-python",
   "name": "python",
   "nbconvert_exporter": "python",
   "pygments_lexer": "ipython3",
   "version": "3.12.7"
  }
 },
 "nbformat": 4,
 "nbformat_minor": 5
}
