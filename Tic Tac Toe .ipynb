{
 "cells": [
  {
   "cell_type": "code",
   "execution_count": null,
   "id": "232f4f0a-cdd5-4610-9968-27f883371851",
   "metadata": {},
   "outputs": [
    {
     "name": "stdout",
     "output_type": "stream",
     "text": [
      "Welcome to Tic-Tac-Toe! Player 1 is X, Player 2 is O.\n",
      "  |   |  \n",
      "---------\n",
      "  |   |  \n",
      "---------\n",
      "  |   |  \n",
      "---------\n",
      "Player X, it's your turn.\n"
     ]
    },
    {
     "name": "stdin",
     "output_type": "stream",
     "text": [
      "Enter row (0, 1, 2):  1\n",
      "Enter column (0, 1, 2):  2\n"
     ]
    },
    {
     "name": "stdout",
     "output_type": "stream",
     "text": [
      "  |   |  \n",
      "---------\n",
      "  |   | X\n",
      "---------\n",
      "  |   |  \n",
      "---------\n",
      "Player O, it's your turn.\n"
     ]
    },
    {
     "name": "stdin",
     "output_type": "stream",
     "text": [
      "Enter row (0, 1, 2):  0\n",
      "Enter column (0, 1, 2):  1\n"
     ]
    },
    {
     "name": "stdout",
     "output_type": "stream",
     "text": [
      "  | O |  \n",
      "---------\n",
      "  |   | X\n",
      "---------\n",
      "  |   |  \n",
      "---------\n",
      "Player X, it's your turn.\n"
     ]
    }
   ],
   "source": [
    "def print_board(board):\n",
    "    for row in board:\n",
    "        print(\" | \".join(row))\n",
    "        print(\"-\" * 9)\n",
    "\n",
    "def check_winner(board, player):\n",
    "    # Check rows, columns, and diagonals for a win\n",
    "    for i in range(3):\n",
    "        if all(cell == player for cell in board[i]) or all(row[i] == player for row in board):\n",
    "            return True\n",
    "    return (board[0][0] == board[1][1] == board[2][2] == player or\n",
    "            board[0][2] == board[1][1] == board[2][0] == player)\n",
    "\n",
    "def is_full(board):\n",
    "    return all(cell != \" \" for row in board for cell in row)\n",
    "\n",
    "def main():\n",
    "    # Initialize the game board\n",
    "    board = [[\" \" for _ in range(3)] for _ in range(3)]\n",
    "\n",
    "    print(\"Welcome to Tic-Tac-Toe! Player 1 is X, Player 2 is O.\")\n",
    "    print_board(board)\n",
    "\n",
    "    current_player = \"X\"\n",
    "\n",
    "    while True:\n",
    "        try:\n",
    "            # Ask the current player for their move\n",
    "            print(f\"Player {current_player}, it's your turn.\")\n",
    "            row = int(input(\"Enter row (0, 1, 2): \"))\n",
    "            col = int(input(\"Enter column (0, 1, 2): \"))\n",
    "\n",
    "            if not (0 <= row < 3 and 0 <= col < 3):\n",
    "                print(\"Invalid input! Please enter values between 0 and 2.\")\n",
    "                continue\n",
    "\n",
    "            if board[row][col] != \" \":\n",
    "                print(\"That cell is already taken. Try again.\")\n",
    "                continue\n",
    "\n",
    "            # Place the player's mark\n",
    "            board[row][col] = current_player\n",
    "            print_board(board)\n",
    "\n",
    "            # Check for a winner or a draw\n",
    "            if check_winner(board, current_player):\n",
    "                print(f\"Player {current_player} wins!\")\n",
    "                break\n",
    "\n",
    "            if is_full(board):\n",
    "                print(\"The game is a draw!\")\n",
    "                break\n",
    "\n",
    "            # Switch to the other player\n",
    "            current_player = \"O\" if current_player == \"X\" else \"X\"\n",
    "        except ValueError:\n",
    "            print(\"Invalid input! Please enter numeric values.\")\n",
    "\n",
    "if __name__ == \"__main__\":\n",
    "    main()\n"
   ]
  }
 ],
 "metadata": {
  "kernelspec": {
   "display_name": "Python 3 (ipykernel)",
   "language": "python",
   "name": "python3"
  },
  "language_info": {
   "codemirror_mode": {
    "name": "ipython",
    "version": 3
   },
   "file_extension": ".py",
   "mimetype": "text/x-python",
   "name": "python",
   "nbconvert_exporter": "python",
   "pygments_lexer": "ipython3",
   "version": "3.12.7"
  }
 },
 "nbformat": 4,
 "nbformat_minor": 5
}
